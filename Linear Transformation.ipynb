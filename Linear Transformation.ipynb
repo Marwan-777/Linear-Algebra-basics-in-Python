{
 "cells": [
  {
   "cell_type": "markdown",
   "id": "dd5fdc2a",
   "metadata": {
    "id": "dd5fdc2a"
   },
   "source": [
    "## Linear Combination\n",
    "### Use NumPy"
   ]
  },
  {
   "cell_type": "markdown",
   "id": "38364291",
   "metadata": {
    "id": "38364291"
   },
   "source": [
    "$$v_1=\\begin{bmatrix} 1 \\\\ 2 \\\\ 3 \\end{bmatrix},\n",
    "v_2=\\begin{bmatrix} 3 \\\\ 5 \\\\ 1 \\end{bmatrix},\n",
    "v_3=\\begin{bmatrix} 0 \\\\ 0 \\\\ 8 \\end{bmatrix}$$\n",
    "- Find <b>b</b> vector where $$b=3v_1+0v_2+0v_3$$\n",
    "- Find <b>x</b> vector where $$x=-v_1+v_2-0.5v_3$$"
   ]
  },
  {
   "cell_type": "code",
   "execution_count": 2,
   "id": "07542d77",
   "metadata": {
    "colab": {
     "base_uri": "https://localhost:8080/"
    },
    "id": "07542d77",
    "outputId": "72e1aa35-373b-4540-c882-2372785541cf"
   },
   "outputs": [
    {
     "name": "stdout",
     "output_type": "stream",
     "text": [
      "[3 6 9]\n",
      "[ 2.  3. -6.]\n"
     ]
    }
   ],
   "source": [
    "import numpy as np\n",
    "v1 = np.array([1,2,3])\n",
    "v2 = np.array([3,5,1])\n",
    "v3 = np.array([0,0,8])\n",
    "\n",
    "\n",
    "b = 3*v1 + 0*v2 + 0*v3\n",
    "x = -v1 + v2 -0.5*v3\n",
    "print(b)\n",
    "print(x)"
   ]
  },
  {
   "cell_type": "markdown",
   "id": "54955382",
   "metadata": {
    "id": "54955382"
   },
   "source": [
    "## Vector Span\n",
    "### Use Numpy (matrix inverse) and SymPy (rref)"
   ]
  },
  {
   "cell_type": "markdown",
   "id": "9d440a16",
   "metadata": {
    "id": "9d440a16"
   },
   "source": [
    "#### Is $$v=\\begin{bmatrix} 19 \\\\ 10 \\\\ -1 \\end{bmatrix}$$ in the span of \n",
    "$$v_1=\\begin{bmatrix} 3 \\\\ -1 \\\\ 2 \\end{bmatrix},\n",
    "v_2=\\begin{bmatrix} -5 \\\\ 0 \\\\ 1 \\end{bmatrix},\n",
    "v_3=\\begin{bmatrix} 1 \\\\ 7 \\\\ -4 \\end{bmatrix}$$"
   ]
  },
  {
   "cell_type": "code",
   "execution_count": 3,
   "id": "eb0acfc2",
   "metadata": {
    "colab": {
     "base_uri": "https://localhost:8080/"
    },
    "id": "eb0acfc2",
    "outputId": "2669f203-a78b-4ef1-88a2-881a90990897"
   },
   "outputs": [
    {
     "name": "stdout",
     "output_type": "stream",
     "text": [
      "(Matrix([\n",
      "[1, 0, 0,  4],\n",
      "[0, 1, 0, -1],\n",
      "[0, 0, 1,  2]]), (0, 1, 2))\n"
     ]
    }
   ],
   "source": [
    "import sympy as sp\n",
    "\n",
    "A = sp.Matrix([[ 3 , -5 , 1 , 19],\n",
    "           [-1 , 0 , 7 , 10],\n",
    "           [2 , 1 , -4 , -1]    \n",
    "])\n",
    "print(A.rref())\n",
    "\n",
    "# Since it is a linear comblnation of the three vectors\n",
    "# then it is in their span"
   ]
  },
  {
   "cell_type": "code",
   "execution_count": 4,
   "id": "6da888d4",
   "metadata": {
    "colab": {
     "base_uri": "https://localhost:8080/"
    },
    "id": "6da888d4",
    "outputId": "cebc9df5-b94b-4942-d4c7-bd438143af8e"
   },
   "outputs": [
    {
     "name": "stdout",
     "output_type": "stream",
     "text": [
      "[ 4. -1.  2.]\n"
     ]
    }
   ],
   "source": [
    "import numpy as np\n",
    "\n",
    "A = np.array([[3 , -5 , 1],\n",
    "              [-1 , 0 , 7],\n",
    "              [2 , 1 , -4]\n",
    "])\n",
    "\n",
    "v = np.array([19, 10, -1])\n",
    "\n",
    "x = np.linalg.inv(A)@v\n",
    "print(x)\n",
    "# it yields the same results found using the rref\n",
    "# since the matrix has inverse and there is a solution then it is in their span"
   ]
  },
  {
   "cell_type": "markdown",
   "id": "821a71ae",
   "metadata": {
    "id": "821a71ae"
   },
   "source": [
    "## Vector Linear Independence\n",
    "### Use rref and determinant\n",
    "- Consider the following sets of vectors in R3. If the set is independent, prove it. \n",
    "- If the set is dependent, find a nontrivial linear combination of the vectors which is equal to 0.\n",
    "    - {(2, 0, -3), (1, 1, 1), (1, 7, 2)}.\n",
    "    - {(1, 2, -1), (4, 1, 3), (-10, 1, -11)}.\n",
    "\n",
    "<b>Hint: we have to determine whether this implies that 𝒂=𝒃=𝒄=𝟎.</b>"
   ]
  },
  {
   "cell_type": "code",
   "execution_count": 9,
   "id": "765fd9a0",
   "metadata": {
    "colab": {
     "base_uri": "https://localhost:8080/"
    },
    "id": "765fd9a0",
    "outputId": "aeb32229-6194-4edc-f299-aa440195bd2e"
   },
   "outputs": [
    {
     "name": "stdout",
     "output_type": "stream",
     "text": [
      "-28.00000000000001\n",
      "(Matrix([\n",
      "[1, 0, 0, 0],\n",
      "[0, 1, 0, 0],\n",
      "[0, 0, 1, 0]]), (0, 1, 2))\n"
     ]
    }
   ],
   "source": [
    "import numpy as np\n",
    "import sympy as sp\n",
    "\n",
    "# For first set of vectors\n",
    "\n",
    "A = np.array([[2 , 1 , 1],\n",
    "              [0 , 1 , 7],\n",
    "              [-3 , 1 , 2]\n",
    "])\n",
    "print(np.linalg.det(A))\n",
    "# since the determinant is not zero then they are independant\n",
    "\n",
    "B = sp.Matrix([[2 , 1 , 1 , 0],\n",
    "              [0 , 1 , 7 , 0],\n",
    "              [-3 , 1 , 2 , 0]\n",
    "])\n",
    "print(B.rref())\n",
    "# Since all the coefficients of the three vectors are zeros then they are independant"
   ]
  },
  {
   "cell_type": "code",
   "execution_count": 19,
   "id": "51c3ffd9",
   "metadata": {
    "colab": {
     "base_uri": "https://localhost:8080/"
    },
    "id": "51c3ffd9",
    "outputId": "98cb216c-2b2a-4fdc-dbd1-9c1975205964"
   },
   "outputs": [
    {
     "name": "stdout",
     "output_type": "stream",
     "text": [
      "0.0\n",
      "(Matrix([\n",
      "[1, 0,  2, 0],\n",
      "[0, 1, -3, 0],\n",
      "[0, 0,  0, 0]]), (0, 1))\n"
     ]
    }
   ],
   "source": [
    "# For second set of vectors\n",
    "\n",
    "A = np.array([[1 , 4 , -10],\n",
    "              [2 , 1 , 1],\n",
    "              [-1 , 3 , -11]\n",
    "])\n",
    "print(np.linalg.det(A))\n",
    "\n",
    "# Since determinant is zero then they are dependant\n",
    "\n",
    "B = sp.Matrix([[1 , 4 , -10 , 0],\n",
    "              [2 , 1 , 1 , 0] ,\n",
    "              [-1 , 3 , -11 , 0]\n",
    "])\n",
    "\n",
    "print(B.rref())\n",
    "# Using the rref we find that the first two vectors are independant thus their linear combination is equal to 0\n"
   ]
  },
  {
   "cell_type": "markdown",
   "id": "c88fb001",
   "metadata": {
    "id": "c88fb001"
   },
   "source": [
    "## Linear Transformation\n",
    "### Ex.1"
   ]
  },
  {
   "cell_type": "markdown",
   "id": "9ef341fd",
   "metadata": {
    "id": "9ef341fd"
   },
   "source": [
    "$$T=\\begin{bmatrix} 1&2 \\\\ 3&7 \\end{bmatrix}$$\n",
    "- Write the linear transformation expression of this matrix. i.e. Linear functions of x,y. \n",
    "- Apply the transformation matrix <b>T</b> to the following vectors:\n",
    "$$\\begin{bmatrix} 1 \\\\ 0 \\end{bmatrix},\\begin{bmatrix} 0 \\\\ 1 \\end{bmatrix} $$\n",
    "- Find all points <b>(x,y)</b> such that <b>T(x,y)=(1,0)</b>"
   ]
  },
  {
   "cell_type": "code",
   "execution_count": 20,
   "id": "90cf5495",
   "metadata": {
    "colab": {
     "base_uri": "https://localhost:8080/"
    },
    "id": "90cf5495",
    "outputId": "48d83d21-ff8c-4fbb-97c0-538a9a273d89"
   },
   "outputs": [
    {
     "name": "stdout",
     "output_type": "stream",
     "text": [
      "[1 3]\n",
      "[2 7]\n"
     ]
    }
   ],
   "source": [
    "'''\n",
    "[[1  , 2],[3 , 7]] * [ x, y]\n",
    "'''\n",
    "T = np.array([[ 1, 2],\n",
    "              [3 , 7]\n",
    "])\n",
    "\n",
    "e1 = np.array([1 , 0])\n",
    "e2 = np.array([0 , 1])\n",
    "\n",
    "print(T@e1)\n",
    "print(T@e2)\n"
   ]
  },
  {
   "cell_type": "markdown",
   "id": "aa9f63c6",
   "metadata": {
    "id": "aa9f63c6"
   },
   "source": [
    "### Ex.2\n",
    "### For the expression $$T\\begin{bmatrix} x \\\\ y \\end{bmatrix}=\\begin{bmatrix} x+y \\\\ y \\end{bmatrix}$$\n",
    "- Find the transformation matrix.\n",
    "- Represent the transformation graphically <b>(on paper)</b>.\n",
    "- Find all points <b>(x,y)</b> such that <b>T(x,y)=(3,4)</b>"
   ]
  },
  {
   "cell_type": "code",
   "execution_count": 21,
   "id": "96dd3fd1",
   "metadata": {
    "colab": {
     "base_uri": "https://localhost:8080/"
    },
    "id": "96dd3fd1",
    "outputId": "ded80dd9-77f9-4668-f50c-4d63b21f32ce"
   },
   "outputs": [
    {
     "name": "stdout",
     "output_type": "stream",
     "text": [
      "[-1.  4.]\n"
     ]
    }
   ],
   "source": [
    "T = np.array([[1 , 1],\n",
    "              [0 , 1]\n",
    "])\n",
    "print(np.linalg.inv(T)@np.array([3,4]))"
   ]
  },
  {
   "cell_type": "markdown",
   "id": "81b7edf9",
   "metadata": {
    "id": "81b7edf9"
   },
   "source": [
    "## Determinant\n",
    "### Find Determinant of:"
   ]
  },
  {
   "cell_type": "markdown",
   "id": "f999e755",
   "metadata": {
    "id": "f999e755"
   },
   "source": [
    "$$\\begin{bmatrix} 3&8 \\\\ 4&6 \\end{bmatrix} , \\begin{bmatrix} 4&6 \\\\ 3&8 \\end{bmatrix}$$\n",
    "$$\\begin{bmatrix} 6&1&1 \\\\ 4&-2&5 \\\\ 2&8&7\\end{bmatrix}$$\n",
    "$$\\begin{bmatrix} 3&2&0&1 \\\\ 4&0&1&2 \\\\ 3&0&2&1 \\\\ 9&2&3&1\\end{bmatrix}$$\n"
   ]
  },
  {
   "cell_type": "code",
   "execution_count": 22,
   "id": "95fc52ce",
   "metadata": {
    "colab": {
     "base_uri": "https://localhost:8080/"
    },
    "id": "95fc52ce",
    "outputId": "f06ed5c3-90ba-40fe-8d89-4bc01d2299cd"
   },
   "outputs": [
    {
     "name": "stdout",
     "output_type": "stream",
     "text": [
      "-14.000000000000004\n",
      "14.000000000000004\n",
      "-306.0\n",
      "24.000000000000004\n"
     ]
    }
   ],
   "source": [
    "A = np.array([[3 , 8],\n",
    "              [4 , 6]\n",
    "])\n",
    "\n",
    "B = np.array([[4 , 6],\n",
    "              [3 , 8]\n",
    "])\n",
    "\n",
    "C = np.array([ [ 6 , 1 , 1],\n",
    "              [4 , -2 , 5],\n",
    "              [2 , 8 , 7]\n",
    "])\n",
    "\n",
    "D = np.array([[3 , 2 , 0 , 1],\n",
    "              [4 , 0 , 1 , 2],\n",
    "              [3 , 0 , 2 , 1],\n",
    "              [9 , 2 , 3 , 1]\n",
    "])\n",
    "print(np.linalg.det(A))\n",
    "print(np.linalg.det(B))\n",
    "print(np.linalg.det(C))\n",
    "print(np.linalg.det(D))"
   ]
  },
  {
   "cell_type": "markdown",
   "id": "3d7f760c",
   "metadata": {
    "id": "3d7f760c"
   },
   "source": [
    "## Matrix Rank\n",
    "### Find the rank of the matrix (use rref and confirm using matrix_rank())"
   ]
  },
  {
   "cell_type": "markdown",
   "id": "39022ae4",
   "metadata": {
    "id": "39022ae4"
   },
   "source": [
    "$$X = \\begin{bmatrix} 1&2&4&4 \\\\ 3&4&8&0 \\end{bmatrix}$$\n",
    "$$Y = \\begin{bmatrix} 1&2&3 \\\\ 2&3&5 \\\\ 3&4&7 \\\\ 4&5&9  \\end{bmatrix}$$"
   ]
  },
  {
   "cell_type": "code",
   "execution_count": 30,
   "id": "6855c257",
   "metadata": {
    "colab": {
     "base_uri": "https://localhost:8080/"
    },
    "id": "6855c257",
    "outputId": "0648cfea-032b-473a-ea58-fcf8934d1976"
   },
   "outputs": [
    {
     "name": "stdout",
     "output_type": "stream",
     "text": [
      "(Matrix([\n",
      "[1, 0, 0, -8],\n",
      "[0, 1, 2,  6]]), (0, 1))\n",
      "(Matrix([\n",
      "[1, 0, 1],\n",
      "[0, 1, 1],\n",
      "[0, 0, 0],\n",
      "[0, 0, 0]]), (0, 1))\n"
     ]
    }
   ],
   "source": [
    "X = sp.Matrix([[1 , 2 , 4 , 4],\n",
    "               [3 , 4 , 8 , 0]\n",
    "])\n",
    "\n",
    "Y = sp.Matrix([[1 , 2 , 3],\n",
    "               [2 , 3 , 5],\n",
    "               [3 , 4 , 7],\n",
    "               [4 , 5 , 9]\n",
    "])\n",
    "print(X.rref())\n",
    "print(Y.rref())\n",
    "# Both matrices have rank of 2"
   ]
  },
  {
   "cell_type": "code",
   "execution_count": 33,
   "id": "864a8f85",
   "metadata": {
    "colab": {
     "base_uri": "https://localhost:8080/"
    },
    "id": "864a8f85",
    "outputId": "97f18856-9b02-4159-c251-0b61e0c1c946"
   },
   "outputs": [
    {
     "name": "stdout",
     "output_type": "stream",
     "text": [
      "2\n",
      "2\n"
     ]
    }
   ],
   "source": [
    "X = np.array([[1 , 2 , 4 , 4],\n",
    "               [3 , 4 , 8 , 0]\n",
    "])\n",
    "print(np.linalg.matrix_rank(X))\n",
    "Y = np.array([[1 , 2 , 3],\n",
    "               [2 , 3 , 5],\n",
    "               [3 , 4 , 7],\n",
    "               [4 , 5 , 9]\n",
    "])\n",
    "print(np.linalg.matrix_rank(Y))"
   ]
  },
  {
   "cell_type": "markdown",
   "id": "9b55ebcf",
   "metadata": {
    "id": "9b55ebcf"
   },
   "source": [
    "## Matrix Inverse\n",
    "### Find the inverse:"
   ]
  },
  {
   "cell_type": "markdown",
   "id": "6f15a14c",
   "metadata": {
    "id": "6f15a14c"
   },
   "source": [
    "$$\\begin{bmatrix} 3&8 \\\\ 4&6 \\end{bmatrix} , \\begin{bmatrix} 4&6 \\\\ 3&8 \\end{bmatrix}$$\n",
    "$$\\begin{bmatrix} 6&1&1 \\\\ 4&-2&5 \\\\ 2&8&7\\end{bmatrix}$$\n",
    "$$\\begin{bmatrix} 3&2&0&1 \\\\ 4&0&1&2 \\\\ 3&0&2&1 \\\\ 9&2&3&1\\end{bmatrix}$$"
   ]
  },
  {
   "cell_type": "code",
   "execution_count": 35,
   "id": "ff81fb7b",
   "metadata": {
    "colab": {
     "base_uri": "https://localhost:8080/"
    },
    "id": "ff81fb7b",
    "outputId": "a9255b94-0f70-4fc4-b40b-f7a756fff19b"
   },
   "outputs": [
    {
     "name": "stdout",
     "output_type": "stream",
     "text": [
      "[[-0.42857143  0.57142857]\n",
      " [ 0.28571429 -0.21428571]]\n",
      "\n",
      "[[ 0.57142857 -0.42857143]\n",
      " [-0.21428571  0.28571429]]\n",
      "\n",
      "[[ 0.17647059 -0.00326797 -0.02287582]\n",
      " [ 0.05882353 -0.13071895  0.08496732]\n",
      " [-0.11764706  0.1503268   0.05228758]]\n",
      "\n",
      "[[-0.25        0.25       -0.5         0.25      ]\n",
      " [ 0.66666667 -0.5         0.5        -0.16666667]\n",
      " [ 0.16666667 -0.5         1.         -0.16666667]\n",
      " [ 0.41666667  0.25        0.5        -0.41666667]]\n"
     ]
    }
   ],
   "source": [
    "A = np.array([[3 , 8],\n",
    "              [4 , 6]\n",
    "])\n",
    "\n",
    "B = np.array([[4 , 6],\n",
    "              [3 , 8]\n",
    "])\n",
    "\n",
    "C = np.array([ [ 6 , 1 , 1],\n",
    "              [4 , -2 , 5],\n",
    "              [2 , 8 , 7]\n",
    "])\n",
    "\n",
    "D = np.array([[3 , 2 , 0 , 1],\n",
    "              [4 , 0 , 1 , 2],\n",
    "              [3 , 0 , 2 , 1],\n",
    "              [9 , 2 , 3 , 1]\n",
    "])\n",
    "print(np.linalg.inv(A))\n",
    "print()\n",
    "print(np.linalg.inv(B))\n",
    "print()\n",
    "print(np.linalg.inv(C))\n",
    "print()\n",
    "print(np.linalg.inv(D))"
   ]
  },
  {
   "cell_type": "code",
   "execution_count": null,
   "id": "8a96ac97",
   "metadata": {
    "id": "8a96ac97"
   },
   "outputs": [],
   "source": []
  }
 ],
 "metadata": {
  "colab": {
   "provenance": []
  },
  "kernelspec": {
   "display_name": "Python 3 (ipykernel)",
   "language": "python",
   "name": "python3"
  },
  "language_info": {
   "codemirror_mode": {
    "name": "ipython",
    "version": 3
   },
   "file_extension": ".py",
   "mimetype": "text/x-python",
   "name": "python",
   "nbconvert_exporter": "python",
   "pygments_lexer": "ipython3",
   "version": "3.10.7"
  }
 },
 "nbformat": 4,
 "nbformat_minor": 5
}
