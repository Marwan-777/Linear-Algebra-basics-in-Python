{
 "cells": [
  {
   "cell_type": "markdown",
   "id": "41c38e8b",
   "metadata": {
    "id": "41c38e8b"
   },
   "source": [
    "## Eigenvectors and Eigenvalues\n",
    "### Use numpy only\n",
    "#### Find eigenvalues and eigenvevtors of the following:"
   ]
  },
  {
   "cell_type": "markdown",
   "id": "37b5f8e9",
   "metadata": {
    "id": "37b5f8e9"
   },
   "source": [
    "$$\\begin{bmatrix} 1&0 \\\\ 0&2 \\end{bmatrix}$$\n",
    "$$\\begin{bmatrix} 1&2 \\\\ 3&-4 \\end{bmatrix}$$"
   ]
  },
  {
   "cell_type": "code",
   "execution_count": 1,
   "id": "f0eb7b31",
   "metadata": {
    "colab": {
     "base_uri": "https://localhost:8080/"
    },
    "id": "f0eb7b31",
    "outputId": "dd8482c2-687f-4d27-d9f8-67b444888d9d"
   },
   "outputs": [
    {
     "name": "stdout",
     "output_type": "stream",
     "text": [
      "[1. 2.]\n",
      "[[1. 0.]\n",
      " [0. 1.]]\n"
     ]
    }
   ],
   "source": [
    "import numpy as np\n",
    "\n",
    "A = np.array([[1 , 0],\n",
    "              [0 , 2]\n",
    "])\n",
    "\n",
    "values, vectors = np.linalg.eig(A)\n",
    "print(values)\n"
   ]
  },
  {
   "cell_type": "code",
   "execution_count": null,
   "id": "550cefa9",
   "metadata": {
    "id": "550cefa9"
   },
   "outputs": [],
   "source": [
    "print(vectors)"
   ]
  },
  {
   "cell_type": "code",
   "execution_count": 4,
   "id": "c462b5f2",
   "metadata": {
    "colab": {
     "base_uri": "https://localhost:8080/"
    },
    "id": "c462b5f2",
    "outputId": "95ea192e-3f7f-4b9f-a806-5d4b8a4306a5"
   },
   "outputs": [
    {
     "name": "stdout",
     "output_type": "stream",
     "text": [
      "[ 2. -5.]\n"
     ]
    }
   ],
   "source": [
    "B = np.array([ [1 , 2],\n",
    "             [3 , -4]\n",
    "])\n",
    "values,vectors = np.linalg.eig(B)\n",
    "print(values)"
   ]
  },
  {
   "cell_type": "code",
   "execution_count": 5,
   "id": "191b38ab",
   "metadata": {
    "colab": {
     "base_uri": "https://localhost:8080/"
    },
    "id": "191b38ab",
    "outputId": "68bd6c5e-ec88-4873-dfe8-27d49bb4bff5"
   },
   "outputs": [
    {
     "name": "stdout",
     "output_type": "stream",
     "text": [
      "[[ 0.89442719 -0.31622777]\n",
      " [ 0.4472136   0.9486833 ]]\n"
     ]
    }
   ],
   "source": [
    "print(vectors)"
   ]
  },
  {
   "cell_type": "markdown",
   "id": "c2422d5b",
   "metadata": {
    "id": "c2422d5b"
   },
   "source": [
    "# PCA Using Eigen Decomposition"
   ]
  },
  {
   "cell_type": "markdown",
   "id": "4b1752df",
   "metadata": {
    "id": "4b1752df"
   },
   "source": [
    "### Create a matrix contains the following data"
   ]
  },
  {
   "cell_type": "code",
   "execution_count": 56,
   "id": "f9d03ab7",
   "metadata": {
    "id": "f9d03ab7"
   },
   "outputs": [],
   "source": [
    "matrix = np.array([[1 , 2 , 3 , 4],\n",
    "                   [5 , 5 , 6 , 7],\n",
    "                   [1 , 4 , 2 , 3],\n",
    "                   [5 , 3 , 2 , 1],\n",
    "                   [8 , 1 , 2 , 2]\n",
    "])"
   ]
  },
  {
   "cell_type": "markdown",
   "id": "0a0fbad8",
   "metadata": {
    "id": "0a0fbad8"
   },
   "source": [
    "### Step 1: Standardize the dataset (Subtract mean and divide by standard deviation)."
   ]
  },
  {
   "cell_type": "code",
   "execution_count": 17,
   "id": "dCZ46VwEYQQp",
   "metadata": {
    "colab": {
     "base_uri": "https://localhost:8080/"
    },
    "id": "dCZ46VwEYQQp",
    "outputId": "ebe0602b-338a-4d12-f1d8-1e0daf69b4fd"
   },
   "outputs": [
    {
     "name": "stdout",
     "output_type": "stream",
     "text": [
      "[4.  3.  3.  3.4]\n",
      "[2.68328157 1.41421356 1.54919334 2.05912603]\n"
     ]
    }
   ],
   "source": [
    "mean = np.mean(matrix,axis = 0)\n",
    "std = np.std(matrix, axis = 0)\n",
    "print(mean)\n",
    "print(std)"
   ]
  },
  {
   "cell_type": "code",
   "execution_count": 18,
   "id": "7eefee13",
   "metadata": {
    "colab": {
     "base_uri": "https://localhost:8080/"
    },
    "id": "7eefee13",
    "outputId": "8a6d5198-ac47-4273-dc49-b941b7fedc54"
   },
   "outputs": [
    {
     "name": "stdout",
     "output_type": "stream",
     "text": [
      "[[-1.11803399 -0.70710678  0.          0.29138576]\n",
      " [ 0.372678    1.41421356  1.93649167  1.74831455]\n",
      " [-1.11803399  0.70710678 -0.64549722 -0.19425717]\n",
      " [ 0.372678    0.         -0.64549722 -1.16554303]\n",
      " [ 1.49071198 -1.41421356 -0.64549722 -0.6799001 ]]\n"
     ]
    }
   ],
   "source": [
    "standardized_matrix = (matrix - mean)/std\n",
    "print(standardized_matrix)\n"
   ]
  },
  {
   "cell_type": "markdown",
   "id": "764bcd06",
   "metadata": {
    "id": "764bcd06"
   },
   "source": [
    "### Step 2: Calculate the covariance matrix for the features in the dataset.\n",
    "#### Use the formula (X.T@X) / n then confirm using np.cov()"
   ]
  },
  {
   "cell_type": "code",
   "execution_count": 19,
   "id": "97e88faa",
   "metadata": {
    "colab": {
     "base_uri": "https://localhost:8080/"
    },
    "id": "97e88faa",
    "outputId": "b59e7c85-4776-42e7-e34a-bce2acff357f"
   },
   "outputs": [
    {
     "name": "stdout",
     "output_type": "stream",
     "text": [
      "[[ 1.         -0.31622777  0.04811252 -0.18098843]\n",
      " [-0.31622777  1.          0.63900965  0.61812254]\n",
      " [ 0.04811252  0.63900965  1.          0.94044349]\n",
      " [-0.18098843  0.61812254  0.94044349  1.        ]]\n"
     ]
    }
   ],
   "source": [
    "cov_matrix = (standardized_matrix.T@standardized_matrix)/  standardized_matrix.shape[0]\n",
    "print(cov_matrix)"
   ]
  },
  {
   "cell_type": "code",
   "execution_count": 25,
   "id": "f1151741",
   "metadata": {
    "colab": {
     "base_uri": "https://localhost:8080/"
    },
    "id": "f1151741",
    "outputId": "8ca82cde-58e6-45db-8357-1b10a1037a5b"
   },
   "outputs": [
    {
     "name": "stdout",
     "output_type": "stream",
     "text": [
      "[[ 1.         -0.31622777  0.04811252 -0.18098843]\n",
      " [-0.31622777  1.          0.63900965  0.61812254]\n",
      " [ 0.04811252  0.63900965  1.          0.94044349]\n",
      " [-0.18098843  0.61812254  0.94044349  1.        ]]\n"
     ]
    }
   ],
   "source": [
    "print(np.cov(standardized_matrix.T , ddof = 0))\n",
    "\n"
   ]
  },
  {
   "cell_type": "markdown",
   "id": "dc324de0",
   "metadata": {
    "id": "dc324de0"
   },
   "source": [
    "### Step 3: Calculate the eigenvalues and eigenvectors for the covariance matrix.\n",
    "### Step 4: Sort eigenvalues and their corresponding eigenvectors."
   ]
  },
  {
   "cell_type": "code",
   "execution_count": 30,
   "id": "c9656b1b",
   "metadata": {
    "colab": {
     "base_uri": "https://localhost:8080/"
    },
    "id": "c9656b1b",
    "outputId": "917c3c81-f03d-4483-a464-7d6b6770d8a7"
   },
   "outputs": [
    {
     "name": "stdout",
     "output_type": "stream",
     "text": [
      "[2.51579324 1.0652885  0.39388704 0.02503121]\n"
     ]
    }
   ],
   "source": [
    "values,vectors = np.linalg.eig(cov_matrix)\n",
    "print(values)"
   ]
  },
  {
   "cell_type": "code",
   "execution_count": 31,
   "id": "8c374837",
   "metadata": {
    "colab": {
     "base_uri": "https://localhost:8080/"
    },
    "id": "8c374837",
    "outputId": "938670bf-a594-42d2-f182-ba40972d4e5f"
   },
   "outputs": [
    {
     "name": "stdout",
     "output_type": "stream",
     "text": [
      "[[ 0.16195986 -0.91705888 -0.30707099  0.19616173]\n",
      " [-0.52404813  0.20692161 -0.81731886  0.12061043]\n",
      " [-0.58589647 -0.3205394   0.1882497  -0.72009851]\n",
      " [-0.59654663 -0.11593512  0.44973251  0.65454704]]\n"
     ]
    }
   ],
   "source": [
    "print(vectors)\n",
    "\n"
   ]
  },
  {
   "cell_type": "markdown",
   "id": "21d2a699",
   "metadata": {
    "id": "21d2a699"
   },
   "source": [
    "### Step 5: Pick k eigenvalues and form a matrix of eigenvectors."
   ]
  },
  {
   "cell_type": "markdown",
   "id": "51f02938",
   "metadata": {
    "id": "51f02938"
   },
   "source": [
    "#### Select the first 2 eigen vectors"
   ]
  },
  {
   "cell_type": "code",
   "execution_count": 38,
   "id": "ff3591da",
   "metadata": {
    "colab": {
     "base_uri": "https://localhost:8080/"
    },
    "id": "ff3591da",
    "outputId": "2eb83875-b3bf-49d2-c649-9dc32936eadb"
   },
   "outputs": [
    {
     "name": "stdout",
     "output_type": "stream",
     "text": [
      "[[ 0.16195986 -0.91705888]\n",
      " [-0.52404813  0.20692161]\n",
      " [-0.58589647 -0.3205394 ]\n",
      " [-0.59654663 -0.11593512]]\n"
     ]
    }
   ],
   "source": [
    "first_two_eigs = vectors[:,:2]\n",
    "print(first_two_eigs)"
   ]
  },
  {
   "cell_type": "markdown",
   "id": "c2d4378e",
   "metadata": {
    "id": "c2d4378e"
   },
   "source": [
    "### Step 6:Transform the original matrix."
   ]
  },
  {
   "cell_type": "code",
   "execution_count": 49,
   "id": "6m8f18s8e_nv",
   "metadata": {
    "colab": {
     "base_uri": "https://localhost:8080/"
    },
    "id": "6m8f18s8e_nv",
    "outputId": "0841676d-aaa2-407b-bed6-79023a2b5668"
   },
   "outputs": [
    {
     "name": "stdout",
     "output_type": "stream",
     "text": [
      "[[ 0.016  0.845]\n",
      " [-2.858 -0.873]\n",
      " [-0.058  1.401]\n",
      " [ 1.134  0.   ]\n",
      " [ 1.766 -1.374]]\n"
     ]
    }
   ],
   "source": [
    "print(np.round(standardized_matrix@first_two_eigs,decimals = 3))"
   ]
  },
  {
   "cell_type": "markdown",
   "id": "9ffbac5e",
   "metadata": {
    "id": "9ffbac5e"
   },
   "source": [
    "## SVD\n",
    "### Repeat using SVD and compare the results"
   ]
  },
  {
   "cell_type": "code",
   "execution_count": 82,
   "id": "14bd07fb",
   "metadata": {
    "id": "14bd07fb"
   },
   "outputs": [],
   "source": [
    "_,values,vectors = np.linalg.svd(standardized_matrix)\n",
    "vectors = vectors.T\n"
   ]
  },
  {
   "cell_type": "code",
   "execution_count": 83,
   "id": "53520673",
   "metadata": {
    "colab": {
     "base_uri": "https://localhost:8080/"
    },
    "id": "53520673",
    "outputId": "8b1fb1a9-d564-4782-e805-c4309812f6ef"
   },
   "outputs": [
    {
     "name": "stdout",
     "output_type": "stream",
     "text": [
      "[[ 0.16195986 -0.91705888 -0.30707099  0.19616173]\n",
      " [-0.52404813  0.20692161 -0.81731886  0.12061043]\n",
      " [-0.58589647 -0.3205394   0.1882497  -0.72009851]\n",
      " [-0.59654663 -0.11593512  0.44973251  0.65454704]]\n"
     ]
    }
   ],
   "source": [
    "print(vectors)\n",
    "# eigen vectors"
   ]
  },
  {
   "cell_type": "code",
   "execution_count": 84,
   "id": "048f2605",
   "metadata": {
    "colab": {
     "base_uri": "https://localhost:8080/"
    },
    "id": "048f2605",
    "outputId": "a5e6fe37-7b17-49dd-8b15-8f95d151d925"
   },
   "outputs": [
    {
     "name": "stdout",
     "output_type": "stream",
     "text": [
      "[3.14474155 1.33161063 0.4923588  0.03128901]\n"
     ]
    }
   ],
   "source": [
    "values = (values*values)/len(values)\n",
    "print(values)\n",
    "# eigen values"
   ]
  },
  {
   "cell_type": "code",
   "execution_count": 85,
   "id": "QmBQX3Ifq88O",
   "metadata": {
    "colab": {
     "base_uri": "https://localhost:8080/"
    },
    "id": "QmBQX3Ifq88O",
    "outputId": "213e2b09-a6e3-4720-c904-d569c2e4b348"
   },
   "outputs": [
    {
     "name": "stdout",
     "output_type": "stream",
     "text": [
      "[62.89483102 26.63221259  9.8471761   0.6257803 ]\n"
     ]
    }
   ],
   "source": [
    "sum = np.sum(values)\n",
    "explained_var = (values/sum)*100\n",
    "print(explained_var)"
   ]
  },
  {
   "cell_type": "code",
   "execution_count": 86,
   "id": "87ae01b5",
   "metadata": {
    "colab": {
     "base_uri": "https://localhost:8080/"
    },
    "id": "87ae01b5",
    "outputId": "ee3e722d-34d6-4f2c-c701-61bbbf556113"
   },
   "outputs": [
    {
     "name": "stdout",
     "output_type": "stream",
     "text": [
      "[[ 0.16195986 -0.91705888]\n",
      " [-0.52404813  0.20692161]\n",
      " [-0.58589647 -0.3205394 ]\n",
      " [-0.59654663 -0.11593512]]\n"
     ]
    }
   ],
   "source": [
    "first_two = vectors[:,:2]\n",
    "print(first_two)"
   ]
  },
  {
   "cell_type": "code",
   "execution_count": 87,
   "id": "1da3f10a",
   "metadata": {
    "colab": {
     "base_uri": "https://localhost:8080/"
    },
    "id": "1da3f10a",
    "outputId": "f0bca7e1-0431-47e8-80db-56c89270fd3d"
   },
   "outputs": [
    {
     "name": "stdout",
     "output_type": "stream",
     "text": [
      "[[ 0.016  0.845]\n",
      " [-2.858 -0.873]\n",
      " [-0.058  1.401]\n",
      " [ 1.134  0.   ]\n",
      " [ 1.766 -1.374]]\n"
     ]
    }
   ],
   "source": [
    "print(np.round(standardized_matrix@first_two,decimals = 3))"
   ]
  },
  {
   "cell_type": "code",
   "execution_count": null,
   "id": "c79beaf7",
   "metadata": {
    "id": "c79beaf7"
   },
   "outputs": [],
   "source": []
  }
 ],
 "metadata": {
  "colab": {
   "provenance": []
  },
  "kernelspec": {
   "display_name": "Python 3 (ipykernel)",
   "language": "python",
   "name": "python3"
  },
  "language_info": {
   "codemirror_mode": {
    "name": "ipython",
    "version": 3
   },
   "file_extension": ".py",
   "mimetype": "text/x-python",
   "name": "python",
   "nbconvert_exporter": "python",
   "pygments_lexer": "ipython3",
   "version": "3.10.7"
  }
 },
 "nbformat": 4,
 "nbformat_minor": 5
}
