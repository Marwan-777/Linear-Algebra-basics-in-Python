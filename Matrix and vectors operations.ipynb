{
 "cells": [
  {
   "cell_type": "code",
   "execution_count": 26,
   "id": "9c0d929f",
   "metadata": {
    "id": "9c0d929f"
   },
   "outputs": [],
   "source": [
    "import numpy as np"
   ]
  },
  {
   "cell_type": "markdown",
   "id": "c56a1fa4",
   "metadata": {
    "id": "c56a1fa4"
   },
   "source": [
    "### Practice some NumPy commands:\n",
    "- Create 3 * 3 array.\n",
    "- Check its shape.\n",
    "- Select first row.\n",
    "- Select 2nd column.\n",
    "- Select the 2nd element in the third column.\n",
    "- Create 2*2 from the first two elements of the first 2 rows and columns.\n",
    "- Create single row vector.\n",
    "- Create single column vector."
   ]
  },
  {
   "cell_type": "code",
   "execution_count": 27,
   "id": "997f7eea",
   "metadata": {
    "colab": {
     "base_uri": "https://localhost:8080/"
    },
    "id": "997f7eea",
    "outputId": "74af40e8-01f3-4499-8a16-3ad25378fa5b"
   },
   "outputs": [
    {
     "name": "stdout",
     "output_type": "stream",
     "text": [
      "[[1 2 3]\n",
      " [1 2 3]\n",
      " [1 2 3]]\n",
      "Shape: \n",
      "(3, 3)\n",
      "\n",
      "First row:\n",
      "[1 2 3]\n",
      "\n",
      "second column\n",
      "[2 2 2]\n",
      "\n",
      "second element in third column:\n",
      "3\n",
      "\n",
      "[[1 2]\n",
      " [1 2]]\n",
      "\n",
      "(1, 3)\n",
      "\n",
      "(3, 1)\n"
     ]
    }
   ],
   "source": [
    "A = np.array([[1 , 2 , 3],\n",
    "              [1 , 2 , 3],\n",
    "              [1 , 2 , 3]\n",
    "])\n",
    "print(A)\n",
    "print(\"Shape: \")\n",
    "print(A.shape)\n",
    "\n",
    "print()\n",
    "print(\"First row:\")\n",
    "print(A[0])\n",
    "\n",
    "print()\n",
    "print(\"second column\")\n",
    "print(A[:,1])\n",
    "\n",
    "print()\n",
    "print(\"second element in third column:\")\n",
    "print(A[1,2])\n",
    "\n",
    "print()\n",
    "B = A[:2,:2]\n",
    "print(B)\n",
    "\n",
    "print()\n",
    "single_row = np.array([1,2,2]).reshape(1,3)\n",
    "print(single_row.shape)\n",
    "\n",
    "print()\n",
    "single_col = np.array([1,2,2]).reshape(3,1)\n",
    "print(single_col.shape)"
   ]
  },
  {
   "cell_type": "code",
   "execution_count": 27,
   "id": "d892aa4a",
   "metadata": {
    "id": "d892aa4a"
   },
   "outputs": [],
   "source": []
  },
  {
   "cell_type": "markdown",
   "id": "935d4b46",
   "metadata": {
    "id": "935d4b46"
   },
   "source": [
    "## System of linear equations:\n",
    "- The following system of linear equations can be represented as <b>Ax=b</b>.\n",
    "- Define matrix <b>A</b> and vector <b>b</b> as numpy arrays.\n",
    "- Print them out.\n",
    "1. $$3x-y=2$$ $$x=4 $$\n",
    "$$$$\n",
    "2. $$3x-2y=7$$  $$2x-2y=2$$\n",
    "$$$$\n",
    "3. $$2x-2y+z=7$$  $$x+y+z=2$$  $$3x-2y-z=3$$ "
   ]
  },
  {
   "cell_type": "code",
   "execution_count": 2,
   "id": "fd76ca8b",
   "metadata": {
    "id": "fd76ca8b",
    "scrolled": true
   },
   "outputs": [],
   "source": [
    "import numpy as np\n",
    "A1 = np.array([[3 , -1],\n",
    "              [1 , 0]\n",
    "])\n",
    "B1 = np.array([[2] , \n",
    "               [4]])\n",
    "\n",
    "\n",
    "\n",
    "A2 = np.array([[3 , -2],\n",
    "              [2 , -2]\n",
    "])\n",
    "\n",
    "B2 = np.array([7 , 2])\n",
    "\n",
    "\n",
    "\n",
    "A3 = np.array([[2 , -2 , 1],\n",
    "               [1 , 1 , 1],\n",
    "               [3 , -2 , -1]\n",
    "])\n",
    "B3 = np.array([7 , 2 , 3])"
   ]
  },
  {
   "cell_type": "markdown",
   "id": "6fa32a70",
   "metadata": {
    "id": "6fa32a70"
   },
   "source": [
    "### Find a solution for the above systems of equations using:\n",
    "<b>np.linalg.inv()</b>"
   ]
  },
  {
   "cell_type": "code",
   "execution_count": 29,
   "id": "fd743ec7",
   "metadata": {
    "colab": {
     "base_uri": "https://localhost:8080/"
    },
    "id": "fd743ec7",
    "outputId": "14adbf64-9947-46b9-917f-ae74ccb09b53",
    "scrolled": false
   },
   "outputs": [
    {
     "name": "stdout",
     "output_type": "stream",
     "text": [
      "[ 4. 10.]\n",
      "[5. 4.]\n",
      "[ 0.90909091 -1.36363636  2.45454545]\n"
     ]
    }
   ],
   "source": [
    "X1 = np.linalg.inv(A1)@B1\n",
    "print(X1)\n",
    "\n",
    "X2 = np.linalg.inv(A2)@B2\n",
    "print(X2)\n",
    "\n",
    "X3 = np.linalg.inv(A3)@B3\n",
    "print(X3)"
   ]
  },
  {
   "cell_type": "code",
   "execution_count": null,
   "id": "e0aa3f29",
   "metadata": {},
   "outputs": [],
   "source": [
    "pip install sympy"
   ]
  },
  {
   "cell_type": "code",
   "execution_count": 11,
   "id": "fd0cd964",
   "metadata": {},
   "outputs": [
    {
     "ename": "ModuleNotFoundError",
     "evalue": "No module named 'sympy'",
     "output_type": "error",
     "traceback": [
      "\u001b[1;31m---------------------------------------------------------------------------\u001b[0m",
      "\u001b[1;31mModuleNotFoundError\u001b[0m                       Traceback (most recent call last)",
      "Input \u001b[1;32mIn [11]\u001b[0m, in \u001b[0;36m<cell line: 1>\u001b[1;34m()\u001b[0m\n\u001b[1;32m----> 1\u001b[0m \u001b[38;5;28;01mimport\u001b[39;00m \u001b[38;5;21;01msympy\u001b[39;00m \u001b[38;5;28;01mas\u001b[39;00m \u001b[38;5;21;01msp\u001b[39;00m\n\u001b[0;32m      3\u001b[0m A  \u001b[38;5;241m=\u001b[39m sp\u001b[38;5;241m.\u001b[39mMatrix([\u001b[38;5;241m3\u001b[39m , \u001b[38;5;241m-\u001b[39m\u001b[38;5;241m1\u001b[39m , \u001b[38;5;241m2\u001b[39m],\n\u001b[0;32m      4\u001b[0m               [\u001b[38;5;241m1\u001b[39m , \u001b[38;5;241m0\u001b[39m , \u001b[38;5;241m4\u001b[39m])\n\u001b[0;32m      6\u001b[0m \u001b[38;5;28mprint\u001b[39m(A\u001b[38;5;241m.\u001b[39mrref())\n",
      "\u001b[1;31mModuleNotFoundError\u001b[0m: No module named 'sympy'"
     ]
    }
   ],
   "source": [
    "import sympy as sp\n",
    "\n",
    "A  = sp.Matrix([3 , -1 , 2],\n",
    "              [1 , 0 , 4])\n",
    "\n",
    "print(A.rref())"
   ]
  },
  {
   "cell_type": "markdown",
   "id": "6213a04c",
   "metadata": {
    "id": "6213a04c"
   },
   "source": [
    "### Find a solution for the above systems of equations using:\n",
    "<b>np.linalg.solve()</b>"
   ]
  },
  {
   "cell_type": "code",
   "execution_count": 21,
   "id": "e2dba8f6",
   "metadata": {
    "colab": {
     "base_uri": "https://localhost:8080/"
    },
    "id": "e2dba8f6",
    "outputId": "b531d983-ef4c-4e38-baf7-ca4fcbe363c9"
   },
   "outputs": [
    {
     "name": "stdout",
     "output_type": "stream",
     "text": [
      "[ 4. 10.]\n",
      "[5. 4.]\n",
      "[ 0.90909091 -1.36363636  2.45454545]\n"
     ]
    }
   ],
   "source": [
    "print(np.linalg.solve(A1,B1))\n",
    "print(np.linalg.solve(A2,B2))\n",
    "print(np.linalg.solve(A3,B3))"
   ]
  },
  {
   "cell_type": "markdown",
   "id": "35de5d9a",
   "metadata": {
    "id": "35de5d9a"
   },
   "source": [
    "## Using numpy arrays\n",
    "- For the above systems of equations, multiply matrix <b>A</b> and vector <b>x</b> and make sure the result is <b>b</b>."
   ]
  },
  {
   "cell_type": "code",
   "execution_count": 30,
   "id": "587ad6d5",
   "metadata": {
    "colab": {
     "base_uri": "https://localhost:8080/"
    },
    "id": "587ad6d5",
    "outputId": "afd3428b-087d-4634-d670-df8f2b7e3e9c",
    "scrolled": false
   },
   "outputs": [
    {
     "name": "stdout",
     "output_type": "stream",
     "text": [
      "[2. 4.]\n",
      "[2 4]\n"
     ]
    }
   ],
   "source": [
    "print(np.matmul(A1,X1))\n",
    "print(B1)"
   ]
  },
  {
   "cell_type": "code",
   "execution_count": 32,
   "id": "6564621e",
   "metadata": {
    "colab": {
     "base_uri": "https://localhost:8080/"
    },
    "id": "6564621e",
    "outputId": "1b84adcb-9d56-453f-d364-80470c184bda"
   },
   "outputs": [
    {
     "name": "stdout",
     "output_type": "stream",
     "text": [
      "[7. 2.]\n",
      "[7 2]\n"
     ]
    }
   ],
   "source": [
    "print(np.matmul(A2,X2))\n",
    "print(B2)"
   ]
  },
  {
   "cell_type": "code",
   "execution_count": 33,
   "id": "3cc9cd71",
   "metadata": {
    "colab": {
     "base_uri": "https://localhost:8080/"
    },
    "id": "3cc9cd71",
    "outputId": "b456b9a0-44e2-41d3-d6e1-fe06de28b380"
   },
   "outputs": [
    {
     "name": "stdout",
     "output_type": "stream",
     "text": [
      "[7. 2. 3.]\n",
      "[7 2 3]\n"
     ]
    }
   ],
   "source": [
    "print(np.matmul(A3,X3))\n",
    "print(B3)"
   ]
  },
  {
   "cell_type": "code",
   "execution_count": null,
   "id": "aaa3fb0f",
   "metadata": {
    "id": "aaa3fb0f"
   },
   "outputs": [],
   "source": []
  },
  {
   "cell_type": "markdown",
   "id": "5b20d61b",
   "metadata": {
    "id": "5b20d61b"
   },
   "source": [
    "## Vector Norms"
   ]
  },
  {
   "cell_type": "markdown",
   "id": "053d9605",
   "metadata": {
    "id": "053d9605"
   },
   "source": [
    "*italicised text*### Calculate in paper then confirm your results using numpy linalg.norm().\n",
    "- Calculate L1, L2, Lmax norms for the following vectors:\n",
    "$$v_1=\\begin{bmatrix} 1 \\\\ 2 \\\\ 3 \\end{bmatrix},\n",
    "v_2=\\begin{bmatrix} 3 \\\\ 3 \\\\ 1 \\\\ 3 \\end{bmatrix}$$\n",
    "- Calculate L3 norm for the vector\n",
    "$$v_3=\\begin{bmatrix} 2 \\\\  3 \\\\ 4 \\end{bmatrix}$$"
   ]
  },
  {
   "cell_type": "code",
   "execution_count": 35,
   "id": "e5187437",
   "metadata": {
    "colab": {
     "base_uri": "https://localhost:8080/"
    },
    "id": "e5187437",
    "outputId": "7e98c78e-0529-4b73-a981-24324444fe25"
   },
   "outputs": [
    {
     "name": "stdout",
     "output_type": "stream",
     "text": [
      "For vector v1:\n",
      "L 1  Norm:  6.0\n",
      "L 2  Norm:  3.7416573867739413\n",
      "L max Norm:  3.0\n",
      "\n",
      "For vector v2:\n",
      "L 1  Norm:  10.0\n",
      "L 2  Norm:  5.291502622129181\n",
      "L max Norm:  3.0\n"
     ]
    }
   ],
   "source": [
    "v1 = np.array([1 , 2 , 3])\n",
    "v2 = np.array([3 , 3 , 1 , 3])\n",
    "\n",
    "print(\"For vector v1:\")\n",
    "for i in range(1,3):\n",
    "  print(\"L\",i,\" Norm: \", np.linalg.norm(v1,i))\n",
    "print(\"L max Norm: \", np.linalg.norm(v1,np.inf))\n",
    "\n",
    "print()\n",
    "print(\"For vector v2:\")\n",
    "for i in range(1,3):\n",
    "  print(\"L\",i,\" Norm: \", np.linalg.norm(v2,i))\n",
    "print(\"L max Norm: \", np.linalg.norm(v2,np.inf))"
   ]
  },
  {
   "cell_type": "code",
   "execution_count": 37,
   "id": "edd26cb7",
   "metadata": {
    "colab": {
     "base_uri": "https://localhost:8080/"
    },
    "id": "edd26cb7",
    "outputId": "5c1f70e8-32b4-4c4b-f85b-90fa9d177f31"
   },
   "outputs": [
    {
     "name": "stdout",
     "output_type": "stream",
     "text": [
      "4.626065009182741\n"
     ]
    }
   ],
   "source": [
    "v3 = np.array([2 , 3 , 4])\n",
    "print(np.linalg.norm(v3,3))"
   ]
  },
  {
   "cell_type": "markdown",
   "id": "4a09c2e3",
   "metadata": {
    "id": "4a09c2e3"
   },
   "source": [
    "## Calculate using numpy only.\n",
    "### Calculate L1, L2, L3, and Lmax for the following vectors:\n",
    "$$v_1=\\begin{bmatrix} 5 \\\\ 6 \\end{bmatrix},\n",
    "v_2=\\begin{bmatrix} 4 \\\\ 3 \\\\ 2 \\end{bmatrix},\n",
    "v_3=\\begin{bmatrix} 4 \\\\ 3 \\\\ 2 \\\\ 8 \\\\ 9 \\end{bmatrix}$$"
   ]
  },
  {
   "cell_type": "code",
   "execution_count": 39,
   "id": "f8024557",
   "metadata": {
    "colab": {
     "base_uri": "https://localhost:8080/"
    },
    "id": "f8024557",
    "outputId": "00e5fe0d-80ec-4bd3-8443-a51c4dc0c24e"
   },
   "outputs": [
    {
     "name": "stdout",
     "output_type": "stream",
     "text": [
      "\n",
      "For vector v 1 :\n",
      "L 1  Norm:  11.0\n",
      "L 2  Norm:  7.810249675906654\n",
      "L 3  Norm:  6.986368027818105\n",
      "L max Norm:  6.986368027818105\n",
      "\n",
      "For vector v 2 :\n",
      "L 1  Norm:  9.0\n",
      "L 2  Norm:  5.385164807134504\n",
      "L 3  Norm:  4.626065009182741\n",
      "L max Norm:  4.626065009182741\n",
      "\n",
      "For vector v 3 :\n",
      "L 1  Norm:  26.0\n",
      "L 2  Norm:  13.19090595827292\n",
      "L 3  Norm:  11.02473771449733\n",
      "L max Norm:  11.02473771449733\n"
     ]
    }
   ],
   "source": [
    "v1 = np.array([5 , 6])\n",
    "v2 = np.array([4 , 3 , 2])\n",
    "v3 = np.array([4 , 3 , 2 , 8 , 9])\n",
    "vectors = [v1,v2,v3]\n",
    "\n",
    "for i in range(3):\n",
    "  print()\n",
    "  print(\"For vector v\",i+1,\":\")\n",
    "  for j in range(1,4):\n",
    "    print(\"L\",j,\" Norm: \",np.linalg.norm(vectors[i],j))\n",
    "  print(\"L max Norm: \",np.linalg.norm(vectors[i],j))"
   ]
  },
  {
   "cell_type": "markdown",
   "id": "8a1a0092",
   "metadata": {
    "id": "8a1a0092"
   },
   "source": [
    "## Dot Product"
   ]
  },
  {
   "cell_type": "markdown",
   "id": "9560b90d",
   "metadata": {
    "id": "9560b90d"
   },
   "source": [
    "[link text](https:// [link text](https://))### Calculate in paper then confirm your results using numpy.\n",
    "#### Calculate the dot product of the following vectors:\n",
    "$$v_1=\\begin{bmatrix} 2 \\\\ -1 \\\\ 5 \\\\ 0 \\end{bmatrix} and\n",
    "v_2=\\begin{bmatrix} 4 \\\\ -3 \\\\ 1 \\\\ -1 \\end{bmatrix}$$\n",
    "#### Calculate the dot product of the following vectors and explain the result:\n",
    "$$v_1=\\begin{bmatrix} 3 \\\\ 2 \\\\ -1 \\\\ 4 \\end{bmatrix} and\n",
    "v_2=\\begin{bmatrix} 1 \\\\ -1 \\\\ 1 \\\\ 0 \\end{bmatrix} $$ "
   ]
  },
  {
   "cell_type": "code",
   "execution_count": 40,
   "id": "ce34a72e",
   "metadata": {
    "colab": {
     "base_uri": "https://localhost:8080/"
    },
    "id": "ce34a72e",
    "outputId": "6ff1470b-b56e-4a96-8827-7573e04f6c49"
   },
   "outputs": [
    {
     "name": "stdout",
     "output_type": "stream",
     "text": [
      "16\n"
     ]
    }
   ],
   "source": [
    "v1 = np.array([2 , -1 , 5 , 0])\n",
    "v2 = np.array([4 , -3 , 1 , -1])\n",
    "print(np.dot(v1,v2))"
   ]
  },
  {
   "cell_type": "code",
   "execution_count": 45,
   "id": "80b5b407",
   "metadata": {
    "colab": {
     "base_uri": "https://localhost:8080/"
    },
    "id": "80b5b407",
    "outputId": "664d9b44-5960-4f0d-b55a-5fa5ee4293ac"
   },
   "outputs": [
    {
     "name": "stdout",
     "output_type": "stream",
     "text": [
      "0\n"
     ]
    }
   ],
   "source": [
    "v1 = np.array([3 , 2 , -1 , 4])\n",
    "v2 = np.array([1 , -1 , 1 , 0])\n",
    "print(np.dot(v1,v2))"
   ]
  },
  {
   "cell_type": "markdown",
   "id": "f56c9a66",
   "metadata": {
    "id": "f56c9a66"
   },
   "source": [
    "## Calculate in paper then confirm your results using numpy.\n",
    "### Create two vectors in 2, 3, and 4 dimensions.\n",
    "### Perform vector addition, subtraction, and dot product of these vectors."
   ]
  },
  {
   "cell_type": "code",
   "execution_count": 46,
   "id": "ee00f96e",
   "metadata": {
    "colab": {
     "base_uri": "https://localhost:8080/"
    },
    "id": "ee00f96e",
    "outputId": "b70efe23-a9b2-4a48-96a8-c56cf08d0c9d"
   },
   "outputs": [
    {
     "name": "stdout",
     "output_type": "stream",
     "text": [
      "[4 6]\n",
      "[-2 -2]\n",
      "11\n",
      "[5 7 9]\n",
      "[-3 -3 -3]\n",
      "32\n",
      "[ 4  6  8 10]\n",
      "[-2 -2 -2 -2]\n",
      "50\n"
     ]
    }
   ],
   "source": [
    "a = np.array([1 , 2])\n",
    "b = np.array([ 3 , 4])\n",
    "\n",
    "print(a+b)\n",
    "print(a-b)\n",
    "print(np.dot(a,b))\n",
    "\n",
    "\n",
    "a = np.array([1 , 2 , 3 ])\n",
    "b = np.array([ 4 , 5 , 6])\n",
    "\n",
    "print(a+b)\n",
    "print(a-b)\n",
    "print(np.dot(a,b))\n",
    "\n",
    "a = np.array([ 1, 2 , 3 , 4])\n",
    "b = np.array([3 , 4 , 5 , 6])\n",
    "\n",
    "print(a+b)\n",
    "print(a-b)\n",
    "print(np.dot(a,b))"
   ]
  },
  {
   "cell_type": "markdown",
   "id": "2a742954",
   "metadata": {
    "id": "2a742954"
   },
   "source": [
    "## Matrix Operations"
   ]
  },
  {
   "cell_type": "markdown",
   "id": "7c857d78",
   "metadata": {
    "id": "7c857d78"
   },
   "source": [
    "## Calculate in paper then confirm your results using numpy.\n",
    "### Matrix Multiplication AB then Transpose the result.\n",
    "$$A=\\begin{bmatrix} 3&1&0 \\\\ 2&1&2 \\end{bmatrix}, B=\\begin{bmatrix} 1&3 \\\\ 2&5 \\\\ -1&3 \\end{bmatrix}$$\n",
    "$$A=\\begin{bmatrix} 1&0&3 \\\\ 4&5&-1 \\\\ 0&0&2  \\end{bmatrix}, B=\\begin{bmatrix} 1\\\\2\\\\5 \\end{bmatrix}$$"
   ]
  },
  {
   "cell_type": "code",
   "execution_count": 48,
   "id": "9a6d4119",
   "metadata": {
    "colab": {
     "base_uri": "https://localhost:8080/"
    },
    "id": "9a6d4119",
    "outputId": "fce95a3e-5103-4092-e4f2-352eb3c3f51c"
   },
   "outputs": [
    {
     "name": "stdout",
     "output_type": "stream",
     "text": [
      "[[ 5  2]\n",
      " [11 15]]\n",
      "[16  9 10]\n"
     ]
    }
   ],
   "source": [
    "A = np.array([[3,1,0],\n",
    "              [2,1,2]\n",
    "])\n",
    "\n",
    "B = np.array([[1,2],\n",
    "              [2,5],\n",
    "              [-1,3]\n",
    "])\n",
    "\n",
    "print(np.matmul(A,B).T)\n",
    "\n",
    "\n",
    "A = np.array([[1,0,3],\n",
    "              [4,5,-1],\n",
    "              [0,0,2]\n",
    "])\n",
    "\n",
    "B = np.array([1,2,5])\n",
    "\n",
    "print(np.matmul(A,B).T)"
   ]
  },
  {
   "cell_type": "markdown",
   "id": "a21c1d6f",
   "metadata": {
    "id": "a21c1d6f"
   },
   "source": [
    "## Different Types of Matrices\n",
    "### Create 3 by 3 and 4 by 4 identity matrices "
   ]
  },
  {
   "cell_type": "code",
   "execution_count": 49,
   "id": "b8174f59",
   "metadata": {
    "colab": {
     "base_uri": "https://localhost:8080/"
    },
    "id": "b8174f59",
    "outputId": "08bb298b-eba2-406a-8900-3ab8f25e97a9"
   },
   "outputs": [
    {
     "name": "stdout",
     "output_type": "stream",
     "text": [
      "[[1. 0. 0.]\n",
      " [0. 1. 0.]\n",
      " [0. 0. 1.]]\n"
     ]
    }
   ],
   "source": [
    "mat = np.eye(3)\n",
    "print(mat)"
   ]
  },
  {
   "cell_type": "code",
   "execution_count": 50,
   "id": "feabc567",
   "metadata": {
    "colab": {
     "base_uri": "https://localhost:8080/"
    },
    "id": "feabc567",
    "outputId": "2aa80aab-1f16-4773-f973-d95381cb102a",
    "scrolled": true
   },
   "outputs": [
    {
     "name": "stdout",
     "output_type": "stream",
     "text": [
      "[[1. 0. 0. 0.]\n",
      " [0. 1. 0. 0.]\n",
      " [0. 0. 1. 0.]\n",
      " [0. 0. 0. 1.]]\n"
     ]
    }
   ],
   "source": [
    "mat = np.eye(4)\n",
    "print(mat)"
   ]
  },
  {
   "cell_type": "markdown",
   "id": "3cd908c2",
   "metadata": {
    "id": "3cd908c2"
   },
   "source": [
    "### Create a diagonal matrix contains [2,4,5,11] numbers in its diagonal."
   ]
  },
  {
   "cell_type": "code",
   "execution_count": 55,
   "id": "c622a921",
   "metadata": {
    "colab": {
     "base_uri": "https://localhost:8080/"
    },
    "id": "c622a921",
    "outputId": "6bb4ce6e-09e0-4c7f-fe1b-945d537f877d"
   },
   "outputs": [
    {
     "name": "stdout",
     "output_type": "stream",
     "text": [
      "[[ 2  0  0  0]\n",
      " [ 0  4  0  0]\n",
      " [ 0  0  5  0]\n",
      " [ 0  0  0 11]]\n"
     ]
    }
   ],
   "source": [
    "A = np.diag([2,4,5,11])\n",
    "print(A)"
   ]
  },
  {
   "cell_type": "markdown",
   "id": "7b39f0ce",
   "metadata": {
    "id": "7b39f0ce"
   },
   "source": [
    "### Create a 5 by 5 scalar matrix of number 7"
   ]
  },
  {
   "cell_type": "code",
   "execution_count": 56,
   "id": "3bc1166e",
   "metadata": {
    "colab": {
     "base_uri": "https://localhost:8080/"
    },
    "id": "3bc1166e",
    "outputId": "a334c472-fba2-407f-8e1a-dc8f63b8e9e2"
   },
   "outputs": [
    {
     "name": "stdout",
     "output_type": "stream",
     "text": [
      "[[7. 0. 0. 0. 0.]\n",
      " [0. 7. 0. 0. 0.]\n",
      " [0. 0. 7. 0. 0.]\n",
      " [0. 0. 0. 7. 0.]\n",
      " [0. 0. 0. 0. 7.]]\n"
     ]
    }
   ],
   "source": [
    "print(7*np.eye(5))"
   ]
  },
  {
   "cell_type": "markdown",
   "id": "71946845",
   "metadata": {
    "id": "71946845"
   },
   "source": [
    "### Using SymPy get the rref of the following matrices"
   ]
  },
  {
   "cell_type": "code",
   "execution_count": 58,
   "id": "3890b9a0",
   "metadata": {
    "colab": {
     "base_uri": "https://localhost:8080/"
    },
    "id": "3890b9a0",
    "outputId": "dd55f6b9-c231-44fe-ded8-c2ac6cb6f01a",
    "scrolled": true
   },
   "outputs": [
    {
     "data": {
      "text/plain": [
       "(Matrix([\n",
       " [1, 0,   1,   3],\n",
       " [0, 1, 2/3, 1/3],\n",
       " [0, 0,   0,   0]]), (0, 1))"
      ]
     },
     "execution_count": 58,
     "metadata": {},
     "output_type": "execute_result"
    }
   ],
   "source": [
    "import sympy as sp\n",
    "\n",
    "A = sp.Matrix([[1,0,1,3],\n",
    "               [2,3,4,7],\n",
    "               [-1,-3,-3,-4]\n",
    "])\n",
    "A.rref()"
   ]
  },
  {
   "cell_type": "code",
   "execution_count": 60,
   "id": "cae2dd36",
   "metadata": {
    "colab": {
     "base_uri": "https://localhost:8080/"
    },
    "id": "cae2dd36",
    "outputId": "7a349947-da4b-4435-a799-e967d65cce48"
   },
   "outputs": [
    {
     "data": {
      "text/plain": [
       "(Matrix([\n",
       " [1, 0, 0],\n",
       " [0, 1, 0],\n",
       " [0, 0, 1]]), (0, 1, 2))"
      ]
     },
     "execution_count": 60,
     "metadata": {},
     "output_type": "execute_result"
    }
   ],
   "source": [
    "A = sp.Matrix([[1,1,1],\n",
    "               [1,2,2],\n",
    "               [1,2,3]\n",
    "])\n",
    "\n",
    "A.rref()"
   ]
  },
  {
   "cell_type": "code",
   "execution_count": 61,
   "id": "a20bb9c5",
   "metadata": {
    "colab": {
     "base_uri": "https://localhost:8080/"
    },
    "id": "a20bb9c5",
    "outputId": "fedfb049-3ca0-417e-efff-03d48b557860"
   },
   "outputs": [
    {
     "data": {
      "text/plain": [
       "(Matrix([\n",
       " [1, 0, 0],\n",
       " [0, 1, 0],\n",
       " [0, 0, 1]]), (0, 1, 2))"
      ]
     },
     "execution_count": 61,
     "metadata": {},
     "output_type": "execute_result"
    }
   ],
   "source": [
    "A = sp.Matrix([[1,2,3],\n",
    "               [2,-1,1],\n",
    "               [3,0,-1]\n",
    "])\n",
    "A.rref()"
   ]
  },
  {
   "cell_type": "markdown",
   "id": "bbeff11d",
   "metadata": {
    "id": "bbeff11d"
   },
   "source": [
    "#### Find the solution of the following system of linear equation using SymPy Matrix rref()"
   ]
  },
  {
   "cell_type": "markdown",
   "id": "61dcc75c",
   "metadata": {
    "id": "61dcc75c"
   },
   "source": [
    "1. $$x+y+z=6$$  $$x+2y+2z=9$$  $$x+2y+3z=10$$ \n",
    "$$$$\n",
    "2. $$x+2y+3z=9$$  $$2x-y+z=8$$  $$3x-z=3$$ "
   ]
  },
  {
   "cell_type": "code",
   "execution_count": 63,
   "id": "5b44f38e",
   "metadata": {
    "colab": {
     "base_uri": "https://localhost:8080/"
    },
    "id": "5b44f38e",
    "outputId": "1a43040c-5b53-47de-d285-b5ddb13fc10f"
   },
   "outputs": [
    {
     "data": {
      "text/plain": [
       "(Matrix([\n",
       " [1, 0, 0, 3],\n",
       " [0, 1, 0, 2],\n",
       " [0, 0, 1, 1]]), (0, 1, 2))"
      ]
     },
     "execution_count": 63,
     "metadata": {},
     "output_type": "execute_result"
    }
   ],
   "source": [
    "A = sp.Matrix([[1,1,1,6],\n",
    "               [1,2,2,9],\n",
    "               [1,2,3,10]\n",
    "])\n",
    "\n",
    "A.rref()\n",
    "#z = 1\n",
    "#y = 2\n",
    "#x = 3"
   ]
  },
  {
   "cell_type": "code",
   "execution_count": 64,
   "id": "92c73f88",
   "metadata": {
    "colab": {
     "base_uri": "https://localhost:8080/"
    },
    "id": "92c73f88",
    "outputId": "0b4d5edc-d35c-4721-8b73-971d7bf03283"
   },
   "outputs": [
    {
     "data": {
      "text/plain": [
       "(Matrix([\n",
       " [1, 0, 0,  2],\n",
       " [0, 1, 0, -1],\n",
       " [0, 0, 1,  3]]), (0, 1, 2))"
      ]
     },
     "execution_count": 64,
     "metadata": {},
     "output_type": "execute_result"
    }
   ],
   "source": [
    "A = sp.Matrix([[1,2,3,9],\n",
    "               [2,-1,1,8],\n",
    "               [3,0,-1,3]\n",
    "])\n",
    "A.rref()\n",
    "#z = 3\n",
    "#y = -1\n",
    "#x = 2"
   ]
  },
  {
   "cell_type": "markdown",
   "id": "48df16ae",
   "metadata": {
    "id": "48df16ae"
   },
   "source": [
    "#### Find the solution of the following system of linear equation \n",
    "- Using SymPy Matrix rref()\n",
    "\n",
    "1. $$x-2y=1$$ $$3x-6y=11 $$\n",
    "$$$$\n",
    "2. $$x-2y=1$$ $$3x-6y=3 $$\n",
    "$$$$\n",
    "3. $$x+2y+3z=6$$  $$2x+5y+2z=4$$  $$6x-3y+z=2$$ \n",
    "$$$$\n",
    "4. $$2x+4y-2z=2$$  $$4x+9y-3z=8$$  $$-2x-3y+7z=10$$ "
   ]
  },
  {
   "cell_type": "markdown",
   "id": "D2BTJaLZQ9dP",
   "metadata": {
    "id": "D2BTJaLZQ9dP"
   },
   "source": [
    "1"
   ]
  },
  {
   "cell_type": "code",
   "execution_count": 65,
   "id": "43cb6368",
   "metadata": {
    "colab": {
     "base_uri": "https://localhost:8080/"
    },
    "id": "43cb6368",
    "outputId": "7d3c87f0-a382-4545-c5e5-7d128fbc523b"
   },
   "outputs": [
    {
     "data": {
      "text/plain": [
       "(Matrix([\n",
       " [1, -2, 0],\n",
       " [0,  0, 1]]), (0, 2))"
      ]
     },
     "execution_count": 65,
     "metadata": {},
     "output_type": "execute_result"
    }
   ],
   "source": [
    "A = sp.Matrix([[1,-2,1],\n",
    "               [3,-6,11]\n",
    "])\n",
    "A.rref()\n",
    "# No solution"
   ]
  },
  {
   "cell_type": "markdown",
   "id": "KhqDpyoYQ_j8",
   "metadata": {
    "id": "KhqDpyoYQ_j8"
   },
   "source": [
    "2"
   ]
  },
  {
   "cell_type": "code",
   "execution_count": 66,
   "id": "d1af10bc",
   "metadata": {
    "colab": {
     "base_uri": "https://localhost:8080/"
    },
    "id": "d1af10bc",
    "outputId": "16c658c5-0402-4077-e079-233fc525f218"
   },
   "outputs": [
    {
     "data": {
      "text/plain": [
       "(Matrix([\n",
       " [1, -2, 1],\n",
       " [0,  0, 0]]), (0,))"
      ]
     },
     "execution_count": 66,
     "metadata": {},
     "output_type": "execute_result"
    }
   ],
   "source": [
    "A = sp.Matrix([[1,-2,1],\n",
    "               [3,-6,3]\n",
    "])\n",
    "A.rref()\n",
    "#inf number of solutions"
   ]
  },
  {
   "cell_type": "code",
   "execution_count": 67,
   "id": "c279c860",
   "metadata": {
    "colab": {
     "base_uri": "https://localhost:8080/"
    },
    "id": "c279c860",
    "outputId": "1184d0a6-afec-4727-eb2c-e6bbc9ab35cd"
   },
   "outputs": [
    {
     "data": {
      "text/plain": [
       "(Matrix([\n",
       " [1, 0, 0, 0],\n",
       " [0, 1, 0, 0],\n",
       " [0, 0, 1, 2]]), (0, 1, 2))"
      ]
     },
     "execution_count": 67,
     "metadata": {},
     "output_type": "execute_result"
    }
   ],
   "source": [
    "A = sp.Matrix([[1,2,3,6],\n",
    "               [2,5,2,4],\n",
    "               [6,-3,1,2]\n",
    "])\n",
    "A.rref()\n",
    "#z = 2\n",
    "#y = 0\n",
    "#x = 0"
   ]
  },
  {
   "cell_type": "code",
   "execution_count": 68,
   "id": "24e71492",
   "metadata": {
    "colab": {
     "base_uri": "https://localhost:8080/"
    },
    "id": "24e71492",
    "outputId": "7cabbf0d-cd81-4333-84f8-ccddd8aa5847"
   },
   "outputs": [
    {
     "data": {
      "text/plain": [
       "(Matrix([\n",
       " [1, 0, 0, -1],\n",
       " [0, 1, 0,  2],\n",
       " [0, 0, 1,  2]]), (0, 1, 2))"
      ]
     },
     "execution_count": 68,
     "metadata": {},
     "output_type": "execute_result"
    }
   ],
   "source": [
    "A = sp.Matrix([[2,4,-2,2],\n",
    "               [4,9,-3,8],\n",
    "               [-2,-3,7,10]\n",
    "])\n",
    "A.rref()\n",
    "#z = 2\n",
    "#y = 2\n",
    "#x = -1"
   ]
  },
  {
   "cell_type": "code",
   "execution_count": null,
   "id": "30d9d644",
   "metadata": {
    "id": "30d9d644"
   },
   "outputs": [],
   "source": []
  }
 ],
 "metadata": {
  "colab": {
   "collapsed_sections": [
    "6213a04c",
    "2a742954"
   ],
   "provenance": []
  },
  "kernelspec": {
   "display_name": "Python 3 (ipykernel)",
   "language": "python",
   "name": "python3"
  },
  "language_info": {
   "codemirror_mode": {
    "name": "ipython",
    "version": 3
   },
   "file_extension": ".py",
   "mimetype": "text/x-python",
   "name": "python",
   "nbconvert_exporter": "python",
   "pygments_lexer": "ipython3",
   "version": "3.10.7"
  }
 },
 "nbformat": 4,
 "nbformat_minor": 5
}
